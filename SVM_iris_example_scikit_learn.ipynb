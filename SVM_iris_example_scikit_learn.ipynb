{
  "nbformat": 4,
  "nbformat_minor": 0,
  "metadata": {
    "colab": {
      "provenance": [],
      "authorship_tag": "ABX9TyOqc3yBdMsrD+3i3yaTAtBO",
      "include_colab_link": true
    },
    "kernelspec": {
      "name": "python3",
      "display_name": "Python 3"
    },
    "language_info": {
      "name": "python"
    }
  },
  "cells": [
    {
      "cell_type": "markdown",
      "metadata": {
        "id": "view-in-github",
        "colab_type": "text"
      },
      "source": [
        "<a href=\"https://colab.research.google.com/github/AdrianMartinezCode/python_machine_learning_collabs/blob/main/SVM_iris_example_scikit_learn.ipynb\" target=\"_parent\"><img src=\"https://colab.research.google.com/assets/colab-badge.svg\" alt=\"Open In Colab\"/></a>"
      ]
    },
    {
      "cell_type": "code",
      "execution_count": null,
      "metadata": {
        "colab": {
          "base_uri": "https://localhost:8080/"
        },
        "id": "4sCy9ADXJGW3",
        "outputId": "4cbc160f-64c1-4b33-e790-29d9d8e02df6"
      },
      "outputs": [
        {
          "output_type": "stream",
          "name": "stdout",
          "text": [
            "Accuracy: 0.9666666666666667\n"
          ]
        }
      ],
      "source": [
        "\"\"\"\n",
        "Training and testing a support vector machine (SVM) involves several steps. Here is an example of how this process might work in practice:\n",
        "\n",
        "1. Collect and pre-process the training data. This typically involves cleaning the data, imputing missing values, and transforming the data into a format that can be used by the SVM.\n",
        "\n",
        "2. Select a kernel function and hyperparameters for the SVM. The kernel function defines the way in which the input data is mapped into a higher-dimensional space, where it can be separated by a hyperplane. The hyperparameters control the behavior of the SVM, such as the regularization constant and the tolerance for error.\n",
        "\n",
        "3. Train the SVM on the pre-processed training data using the selected kernel function and hyperparameters. This involves finding the hyperplane that best separates the data into the desired classes.\n",
        "\n",
        "4. Evaluate the performance of the trained SVM on the test data. This typically involves calculating metrics such as accuracy, precision, and recall, and comparing them to a pre-determined threshold to determine whether the SVM is performing well.\n",
        "\n",
        "5. If the performance of the SVM is not satisfactory, go back to step 2 and try different kernel functions and hyperparameters to see if the performance can be improved.\n",
        "\n",
        "6. Once the SVM is performing well on the test data, it can be used to make predictions on new data.\n",
        "\n",
        "\"\"\"\n",
        "\n",
        "\n",
        "# Import the necessary modules\n",
        "from sklearn import datasets\n",
        "from sklearn import svm\n",
        "from sklearn.model_selection import train_test_split\n",
        "from sklearn.decomposition import PCA\n",
        "\n",
        "# Load the iris dataset\n",
        "iris = datasets.load_iris()\n",
        "\n",
        "X = iris['data']\n",
        "y = iris['target']\n",
        "\n",
        "pca = PCA(n_components = 2)\n",
        "X = pca.fit_transform(X)\n",
        "\n",
        "# Split the data into training and test sets\n",
        "X_train, X_test, y_train, y_test = train_test_split(X, y, test_size=0.2, random_state=42)\n",
        "\n",
        "# Select a kernel function and hyperparameters for the SVM\n",
        "kernel = 'poly' # can be 'linear', 'poly', 'rbf', or 'sigmoid'\n",
        "C = 1.0 # regularization constant\n",
        "\n",
        "# Create an SVM model\n",
        "model = svm.SVC(kernel=kernel, C=C)\n",
        "\n",
        "# Train the model on the training data\n",
        "model.fit(X_train, y_train)\n",
        "\n",
        "# Evaluate the model on the test data\n",
        "accuracy = model.score(X_test, y_test)\n",
        "\n",
        "# Print the accuracy of the model\n",
        "print('Accuracy:', accuracy)"
      ]
    },
    {
      "cell_type": "code",
      "source": [
        "print(X.shape)\n",
        "print(y)"
      ],
      "metadata": {
        "colab": {
          "base_uri": "https://localhost:8080/"
        },
        "id": "rkFkFXJRK_0a",
        "outputId": "f9f1cd2f-a986-46a1-83c0-35623d3eb025"
      },
      "execution_count": null,
      "outputs": [
        {
          "output_type": "stream",
          "name": "stdout",
          "text": [
            "(150, 2)\n",
            "[0 0 0 0 0 0 0 0 0 0 0 0 0 0 0 0 0 0 0 0 0 0 0 0 0 0 0 0 0 0 0 0 0 0 0 0 0\n",
            " 0 0 0 0 0 0 0 0 0 0 0 0 0 1 1 1 1 1 1 1 1 1 1 1 1 1 1 1 1 1 1 1 1 1 1 1 1\n",
            " 1 1 1 1 1 1 1 1 1 1 1 1 1 1 1 1 1 1 1 1 1 1 1 1 1 1 2 2 2 2 2 2 2 2 2 2 2\n",
            " 2 2 2 2 2 2 2 2 2 2 2 2 2 2 2 2 2 2 2 2 2 2 2 2 2 2 2 2 2 2 2 2 2 2 2 2 2\n",
            " 2 2]\n"
          ]
        }
      ]
    },
    {
      "cell_type": "code",
      "source": [
        "# Import the necessary modules\n",
        "import matplotlib.pyplot as plt\n",
        "from mlxtend.plotting import plot_decision_regions\n",
        "\n",
        "# Plot the decision boundary of the SVM\n",
        "plot_decision_regions(X, y, clf=model, legend=2)\n",
        "\n",
        "# Add axis labels\n",
        "plt.xlabel('sepal length (cm)')\n",
        "plt.ylabel('petal length (cm)')\n",
        "\n",
        "# Show the plot\n",
        "plt.show()"
      ],
      "metadata": {
        "colab": {
          "base_uri": "https://localhost:8080/",
          "height": 315
        },
        "id": "vmsKaIpQJRtc",
        "outputId": "bd34ff28-c671-4a0a-845b-7a0e1a4adbf8"
      },
      "execution_count": null,
      "outputs": [
        {
          "output_type": "stream",
          "name": "stderr",
          "text": [
            "/usr/local/lib/python3.8/dist-packages/mlxtend/plotting/decision_regions.py:244: MatplotlibDeprecationWarning: Passing unsupported keyword arguments to axis() will raise a TypeError in 3.3.\n",
            "  ax.axis(xmin=xx.min(), xmax=xx.max(), y_min=yy.min(), y_max=yy.max())\n"
          ]
        },
        {
          "output_type": "display_data",
          "data": {
            "text/plain": [
              "<Figure size 432x288 with 1 Axes>"
            ],
            "image/png": "[encoded data removed]"
          },
          "metadata": {
            "needs_background": "light"
          }
        }
      ]
    }
  ]
}